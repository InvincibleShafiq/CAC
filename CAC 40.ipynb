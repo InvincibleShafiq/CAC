{
 "cells": [
  {
   "cell_type": "code",
   "execution_count": 41,
   "id": "27416b17",
   "metadata": {},
   "outputs": [],
   "source": [
    "import pandas as pd \n",
    "import numpy as np\n",
    "import matplotlib.pyplot as plt \n",
    "import seaborn as sns"
   ]
  },
  {
   "cell_type": "code",
   "execution_count": 42,
   "id": "a73bec4c",
   "metadata": {},
   "outputs": [],
   "source": [
    "import os "
   ]
  },
  {
   "cell_type": "code",
   "execution_count": 43,
   "id": "0ec8b469",
   "metadata": {},
   "outputs": [],
   "source": [
    "df=pd.read_csv('./CAC40_stocks_2010_2021 stock market .csv')\n",
    "\n"
   ]
  },
  {
   "cell_type": "code",
   "execution_count": 97,
   "id": "161efc5d",
   "metadata": {
    "scrolled": true
   },
   "outputs": [
    {
     "data": {
      "text/html": [
       "<div>\n",
       "<style scoped>\n",
       "    .dataframe tbody tr th:only-of-type {\n",
       "        vertical-align: middle;\n",
       "    }\n",
       "\n",
       "    .dataframe tbody tr th {\n",
       "        vertical-align: top;\n",
       "    }\n",
       "\n",
       "    .dataframe thead th {\n",
       "        text-align: right;\n",
       "    }\n",
       "</style>\n",
       "<table border=\"1\" class=\"dataframe\">\n",
       "  <thead>\n",
       "    <tr style=\"text-align: right;\">\n",
       "      <th></th>\n",
       "      <th>Open</th>\n",
       "      <th>Close</th>\n",
       "      <th>Volume</th>\n",
       "    </tr>\n",
       "  </thead>\n",
       "  <tbody>\n",
       "    <tr>\n",
       "      <th>count</th>\n",
       "      <td>81735.000000</td>\n",
       "      <td>81735.000000</td>\n",
       "      <td>8.173500e+04</td>\n",
       "    </tr>\n",
       "    <tr>\n",
       "      <th>mean</th>\n",
       "      <td>52.230574</td>\n",
       "      <td>52.233152</td>\n",
       "      <td>1.504557e+06</td>\n",
       "    </tr>\n",
       "    <tr>\n",
       "      <th>std</th>\n",
       "      <td>204.157064</td>\n",
       "      <td>204.455254</td>\n",
       "      <td>2.705040e+06</td>\n",
       "    </tr>\n",
       "    <tr>\n",
       "      <th>min</th>\n",
       "      <td>0.005000</td>\n",
       "      <td>0.005000</td>\n",
       "      <td>0.000000e+00</td>\n",
       "    </tr>\n",
       "    <tr>\n",
       "      <th>25%</th>\n",
       "      <td>17.060273</td>\n",
       "      <td>17.041016</td>\n",
       "      <td>2.700000e+03</td>\n",
       "    </tr>\n",
       "    <tr>\n",
       "      <th>50%</th>\n",
       "      <td>32.599998</td>\n",
       "      <td>32.599998</td>\n",
       "      <td>3.947270e+05</td>\n",
       "    </tr>\n",
       "    <tr>\n",
       "      <th>75%</th>\n",
       "      <td>50.040001</td>\n",
       "      <td>50.044415</td>\n",
       "      <td>2.014200e+06</td>\n",
       "    </tr>\n",
       "    <tr>\n",
       "      <th>max</th>\n",
       "      <td>12203.000000</td>\n",
       "      <td>12529.000000</td>\n",
       "      <td>1.291250e+08</td>\n",
       "    </tr>\n",
       "  </tbody>\n",
       "</table>\n",
       "</div>"
      ],
      "text/plain": [
       "               Open         Close        Volume\n",
       "count  81735.000000  81735.000000  8.173500e+04\n",
       "mean      52.230574     52.233152  1.504557e+06\n",
       "std      204.157064    204.455254  2.705040e+06\n",
       "min        0.005000      0.005000  0.000000e+00\n",
       "25%       17.060273     17.041016  2.700000e+03\n",
       "50%       32.599998     32.599998  3.947270e+05\n",
       "75%       50.040001     50.044415  2.014200e+06\n",
       "max    12203.000000  12529.000000  1.291250e+08"
      ]
     },
     "execution_count": 97,
     "metadata": {},
     "output_type": "execute_result"
    }
   ],
   "source": [
    "df.describe()"
   ]
  },
  {
   "cell_type": "code",
   "execution_count": 98,
   "id": "dcd95f6d",
   "metadata": {},
   "outputs": [
    {
     "data": {
      "text/html": [
       "<div>\n",
       "<style scoped>\n",
       "    .dataframe tbody tr th:only-of-type {\n",
       "        vertical-align: middle;\n",
       "    }\n",
       "\n",
       "    .dataframe tbody tr th {\n",
       "        vertical-align: top;\n",
       "    }\n",
       "\n",
       "    .dataframe thead th {\n",
       "        text-align: right;\n",
       "    }\n",
       "</style>\n",
       "<table border=\"1\" class=\"dataframe\">\n",
       "  <thead>\n",
       "    <tr style=\"text-align: right;\">\n",
       "      <th></th>\n",
       "      <th>CompanyName</th>\n",
       "      <th>StockName</th>\n",
       "      <th>Open</th>\n",
       "      <th>Close</th>\n",
       "      <th>Volume</th>\n",
       "      <th>Date</th>\n",
       "    </tr>\n",
       "  </thead>\n",
       "  <tbody>\n",
       "    <tr>\n",
       "      <th>81730</th>\n",
       "      <td>LVMH</td>\n",
       "      <td>MC</td>\n",
       "      <td>53.689999</td>\n",
       "      <td>51.450001</td>\n",
       "      <td>404700.0</td>\n",
       "      <td>2021-01-26</td>\n",
       "    </tr>\n",
       "    <tr>\n",
       "      <th>81731</th>\n",
       "      <td>LVMH</td>\n",
       "      <td>MC</td>\n",
       "      <td>50.419998</td>\n",
       "      <td>49.369999</td>\n",
       "      <td>688200.0</td>\n",
       "      <td>2021-01-27</td>\n",
       "    </tr>\n",
       "    <tr>\n",
       "      <th>81732</th>\n",
       "      <td>LVMH</td>\n",
       "      <td>MC</td>\n",
       "      <td>49.930000</td>\n",
       "      <td>51.189999</td>\n",
       "      <td>480400.0</td>\n",
       "      <td>2021-01-28</td>\n",
       "    </tr>\n",
       "    <tr>\n",
       "      <th>81733</th>\n",
       "      <td>LVMH</td>\n",
       "      <td>MC</td>\n",
       "      <td>51.099998</td>\n",
       "      <td>49.709999</td>\n",
       "      <td>341000.0</td>\n",
       "      <td>2021-01-29</td>\n",
       "    </tr>\n",
       "    <tr>\n",
       "      <th>81734</th>\n",
       "      <td>LVMH</td>\n",
       "      <td>MC</td>\n",
       "      <td>49.790001</td>\n",
       "      <td>51.250000</td>\n",
       "      <td>348200.0</td>\n",
       "      <td>2021-02-01</td>\n",
       "    </tr>\n",
       "  </tbody>\n",
       "</table>\n",
       "</div>"
      ],
      "text/plain": [
       "      CompanyName StockName       Open      Close    Volume        Date\n",
       "81730        LVMH        MC  53.689999  51.450001  404700.0  2021-01-26\n",
       "81731        LVMH        MC  50.419998  49.369999  688200.0  2021-01-27\n",
       "81732        LVMH        MC  49.930000  51.189999  480400.0  2021-01-28\n",
       "81733        LVMH        MC  51.099998  49.709999  341000.0  2021-01-29\n",
       "81734        LVMH        MC  49.790001  51.250000  348200.0  2021-02-01"
      ]
     },
     "execution_count": 98,
     "metadata": {},
     "output_type": "execute_result"
    }
   ],
   "source": [
    "df.tail()"
   ]
  },
  {
   "cell_type": "code",
   "execution_count": 127,
   "id": "94a115e5",
   "metadata": {},
   "outputs": [
    {
     "data": {
      "text/plain": [
       "<function matplotlib.pyplot.show(close=None, block=None)>"
      ]
     },
     "execution_count": 127,
     "metadata": {},
     "output_type": "execute_result"
    },
    {
     "data": {
      "image/png": "[encoded data removed]",
      "text/plain": [
       "<Figure size 432x288 with 1 Axes>"
      ]
     },
     "metadata": {
      "needs_background": "light"
     },
     "output_type": "display_data"
    }
   ],
   "source": [
    "plt.hist(df)\n",
    "plt.show "
   ]
  },
  {
   "cell_type": "code",
   "execution_count": 117,
   "id": "b9d8ce25",
   "metadata": {},
   "outputs": [
    {
     "data": {
      "text/plain": [
       "<AxesSubplot:>"
      ]
     },
     "execution_count": 117,
     "metadata": {},
     "output_type": "execute_result"
    },
    {
     "data": {
      "image/png": "[encoded data removed]",
      "text/plain": [
       "<Figure size 432x288 with 1 Axes>"
      ]
     },
     "metadata": {
      "needs_background": "light"
     },
     "output_type": "display_data"
    }
   ],
   "source": [
    "df.plot.bar()"
   ]
  },
  {
   "cell_type": "code",
   "execution_count": null,
   "id": "631620ac",
   "metadata": {},
   "outputs": [],
   "source": []
  }
 ],
 "metadata": {
  "kernelspec": {
   "display_name": "Python 3 (ipykernel)",
   "language": "python",
   "name": "python3"
  },
  "language_info": {
   "codemirror_mode": {
    "name": "ipython",
    "version": 3
   },
   "file_extension": ".py",
   "mimetype": "text/x-python",
   "name": "python",
   "nbconvert_exporter": "python",
   "pygments_lexer": "ipython3",
   "version": "3.9.12"
  }
 },
 "nbformat": 4,
 "nbformat_minor": 5
}
